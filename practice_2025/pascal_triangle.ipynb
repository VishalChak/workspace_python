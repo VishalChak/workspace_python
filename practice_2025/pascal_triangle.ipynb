{
 "cells": [
  {
   "cell_type": "code",
   "execution_count": 1,
   "id": "31cf21d4-30d6-4b9e-9b57-6c5112f6e938",
   "metadata": {},
   "outputs": [],
   "source": [
    "## pascal triangle:\n",
    "\n",
    "# 1\n",
    "# 1 1\n",
    "# 1 2 1\n",
    "# 1 3 3 1\n",
    "# 1 4 6 4 1"
   ]
  },
  {
   "cell_type": "code",
   "execution_count": null,
   "id": "0bc4843c-138d-4ac0-82e7-26b8bff2af69",
   "metadata": {},
   "outputs": [],
   "source": [
    "def pascal_triangle(n):\n",
    "    triangle = []\n",
    "    i = 0\n",
    "    while i < n:\n",
    "        if i == 0:\n",
    "            triangle.add([1])\n",
    "        else:\n",
    "            "
   ]
  }
 ],
 "metadata": {
  "kernelspec": {
   "display_name": "Python 3 (ipykernel)",
   "language": "python",
   "name": "python3"
  },
  "language_info": {
   "codemirror_mode": {
    "name": "ipython",
    "version": 3
   },
   "file_extension": ".py",
   "mimetype": "text/x-python",
   "name": "python",
   "nbconvert_exporter": "python",
   "pygments_lexer": "ipython3",
   "version": "3.12.0"
  }
 },
 "nbformat": 4,
 "nbformat_minor": 5
}
