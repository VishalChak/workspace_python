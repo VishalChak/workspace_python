{
 "cells": [
  {
   "cell_type": "code",
   "execution_count": 1,
   "id": "d8d1f373-1da1-4625-b0b0-4002cdff1523",
   "metadata": {},
   "outputs": [],
   "source": [
    "# 2.Maximum Subarray: Given an integer array nums, find the contiguous subarray (containing at least one number) which has the largest sum and return its sum.\n",
    "\n",
    "# Input: [-2,1,-3,4,-1,2,1,-5,4]\n",
    "# Output: 6\n",
    "# Explanation: [4,-1,2,1] has the largest sum = 6.\n"
   ]
  },
  {
   "cell_type": "code",
   "execution_count": 3,
   "id": "63dc7891-32e7-40fa-b5ed-fa3c98a6f8a7",
   "metadata": {},
   "outputs": [
    {
     "name": "stdout",
     "output_type": "stream",
     "text": [
      "6\n"
     ]
    }
   ],
   "source": [
    "def max_subarr(arr):\n",
    "    max_current = max_global = arr[0]\n",
    "    for val in arr:\n",
    "        max_current = max(val, max_current + val)\n",
    "        max_global = max(max_current, max_global)\n",
    "    return max_global\n",
    "\n",
    "arr = [-2,1,-3,4,-1,2,1,-5,4]\n",
    "res = max_subarr(arr)\n",
    "print(res)"
   ]
  },
  {
   "cell_type": "code",
   "execution_count": 9,
   "id": "9e121cdc-d29f-497c-9f82-238f8da95872",
   "metadata": {},
   "outputs": [
    {
     "ename": "NameError",
     "evalue": "name 'max_globle' is not defined",
     "output_type": "error",
     "traceback": [
      "\u001b[31m---------------------------------------------------------------------------\u001b[39m",
      "\u001b[31mNameError\u001b[39m                                 Traceback (most recent call last)",
      "\u001b[36mCell\u001b[39m\u001b[36m \u001b[39m\u001b[32mIn[9]\u001b[39m\u001b[32m, line 18\u001b[39m\n\u001b[32m     15\u001b[39m     \u001b[38;5;28;01mreturn\u001b[39;00m max_global, start, end\n\u001b[32m     17\u001b[39m arr = [-\u001b[32m2\u001b[39m,\u001b[32m1\u001b[39m,-\u001b[32m3\u001b[39m,\u001b[32m4\u001b[39m,-\u001b[32m1\u001b[39m,\u001b[32m2\u001b[39m,\u001b[32m1\u001b[39m,-\u001b[32m5\u001b[39m,\u001b[32m4\u001b[39m]\n\u001b[32m---> \u001b[39m\u001b[32m18\u001b[39m res_arr = \u001b[43mmax_subarr_with_arr\u001b[49m\u001b[43m(\u001b[49m\u001b[43marr\u001b[49m\u001b[43m)\u001b[49m\n\u001b[32m     19\u001b[39m \u001b[38;5;28mprint\u001b[39m(res_arr)\n",
      "\u001b[36mCell\u001b[39m\u001b[36m \u001b[39m\u001b[32mIn[9]\u001b[39m\u001b[32m, line 11\u001b[39m, in \u001b[36mmax_subarr_with_arr\u001b[39m\u001b[34m(arr)\u001b[39m\n\u001b[32m      8\u001b[39m \u001b[38;5;28;01melse\u001b[39;00m:\n\u001b[32m      9\u001b[39m     max_current = max_current +arr[i]\n\u001b[32m---> \u001b[39m\u001b[32m11\u001b[39m \u001b[38;5;28;01mif\u001b[39;00m max_current > \u001b[43mmax_globle\u001b[49m:\n\u001b[32m     12\u001b[39m     max_global = max_current\n\u001b[32m     13\u001b[39m     start = temp_start\n",
      "\u001b[31mNameError\u001b[39m: name 'max_globle' is not defined"
     ]
    }
   ],
   "source": [
    "def max_subarr_with_arr(arr):\n",
    "    max_current = max_global = arr[0]\n",
    "    start = end = temp_start = 0\n",
    "    for i in range(1, len(arr)):\n",
    "        if arr[i] > max_current +arr[i]:\n",
    "            max_current = arr[i]\n",
    "            temp_start = i\n",
    "        else:\n",
    "            max_current = max_current +arr[i]\n",
    "\n",
    "        if max_current > max_globle:\n",
    "            max_global = max_current\n",
    "            start = temp_start\n",
    "            end = i\n",
    "    return max_global, start, end\n",
    "\n",
    "arr = [-2,1,-3,4,-1,2,1,-5,4]\n",
    "res_arr = max_subarr_with_arr(arr)\n",
    "print(res_arr)"
   ]
  },
  {
   "cell_type": "code",
   "execution_count": null,
   "id": "0d2d78ef-c4f7-4864-bc3c-15e7fb9ee1e9",
   "metadata": {},
   "outputs": [],
   "source": []
  },
  {
   "cell_type": "code",
   "execution_count": null,
   "id": "06e687d8-2100-4b86-b326-159a37f1816e",
   "metadata": {},
   "outputs": [],
   "source": []
  }
 ],
 "metadata": {
  "kernelspec": {
   "display_name": "Python 3 (ipykernel)",
   "language": "python",
   "name": "python3"
  },
  "language_info": {
   "codemirror_mode": {
    "name": "ipython",
    "version": 3
   },
   "file_extension": ".py",
   "mimetype": "text/x-python",
   "name": "python",
   "nbconvert_exporter": "python",
   "pygments_lexer": "ipython3",
   "version": "3.11.12"
  }
 },
 "nbformat": 4,
 "nbformat_minor": 5
}
